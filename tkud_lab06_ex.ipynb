{
 "cells": [
  {
   "cell_type": "markdown",
   "metadata": {},
   "source": [
    "# Lab 06 - Bài tập"
   ]
  },
  {
   "cell_type": "code",
   "execution_count": 36,
   "metadata": {},
   "outputs": [],
   "source": [
    "# import library\n",
    "\n",
    "import pandas as pd\n",
    "import numpy as np\n",
    "\n",
    "from math import sqrt\n",
    "from scipy.stats import norm"
   ]
  },
  {
   "cell_type": "code",
   "execution_count": 12,
   "metadata": {},
   "outputs": [
    {
     "data": {
      "text/html": [
       "<div>\n",
       "<style scoped>\n",
       "    .dataframe tbody tr th:only-of-type {\n",
       "        vertical-align: middle;\n",
       "    }\n",
       "\n",
       "    .dataframe tbody tr th {\n",
       "        vertical-align: top;\n",
       "    }\n",
       "\n",
       "    .dataframe thead th {\n",
       "        text-align: right;\n",
       "    }\n",
       "</style>\n",
       "<table border=\"1\" class=\"dataframe\">\n",
       "  <thead>\n",
       "    <tr style=\"text-align: right;\">\n",
       "      <th></th>\n",
       "      <th>Red</th>\n",
       "      <th>Orange</th>\n",
       "      <th>Yellow</th>\n",
       "      <th>Brown</th>\n",
       "      <th>Blue</th>\n",
       "      <th>Green</th>\n",
       "    </tr>\n",
       "  </thead>\n",
       "  <tbody>\n",
       "    <tr>\n",
       "      <th>0</th>\n",
       "      <td>0.751</td>\n",
       "      <td>0.735</td>\n",
       "      <td>0.883</td>\n",
       "      <td>0.696</td>\n",
       "      <td>0.881</td>\n",
       "      <td>0.925</td>\n",
       "    </tr>\n",
       "    <tr>\n",
       "      <th>1</th>\n",
       "      <td>0.841</td>\n",
       "      <td>0.895</td>\n",
       "      <td>0.769</td>\n",
       "      <td>0.876</td>\n",
       "      <td>0.863</td>\n",
       "      <td>0.914</td>\n",
       "    </tr>\n",
       "    <tr>\n",
       "      <th>2</th>\n",
       "      <td>0.856</td>\n",
       "      <td>0.865</td>\n",
       "      <td>0.859</td>\n",
       "      <td>0.855</td>\n",
       "      <td>0.775</td>\n",
       "      <td>0.881</td>\n",
       "    </tr>\n",
       "    <tr>\n",
       "      <th>3</th>\n",
       "      <td>0.799</td>\n",
       "      <td>0.864</td>\n",
       "      <td>0.784</td>\n",
       "      <td>0.806</td>\n",
       "      <td>0.854</td>\n",
       "      <td>0.865</td>\n",
       "    </tr>\n",
       "    <tr>\n",
       "      <th>4</th>\n",
       "      <td>0.966</td>\n",
       "      <td>0.852</td>\n",
       "      <td>0.824</td>\n",
       "      <td>0.840</td>\n",
       "      <td>0.810</td>\n",
       "      <td>0.865</td>\n",
       "    </tr>\n",
       "  </tbody>\n",
       "</table>\n",
       "</div>"
      ],
      "text/plain": [
       "     Red  Orange  Yellow  Brown   Blue  Green\n",
       "0  0.751   0.735   0.883  0.696  0.881  0.925\n",
       "1  0.841   0.895   0.769  0.876  0.863  0.914\n",
       "2  0.856   0.865   0.859  0.855  0.775  0.881\n",
       "3  0.799   0.864   0.784  0.806  0.854  0.865\n",
       "4  0.966   0.852   0.824  0.840  0.810  0.865"
      ]
     },
     "execution_count": 12,
     "metadata": {},
     "output_type": "execute_result"
    }
   ],
   "source": [
    "df = pd.read_excel(\"./data/18_M_M.xls\")\n",
    "df.head()"
   ]
  },
  {
   "cell_type": "markdown",
   "metadata": {},
   "source": [
    "## <u>Bài 1</u>"
   ]
  },
  {
   "cell_type": "markdown",
   "metadata": {},
   "source": [
    "Green M&M Candies liên quan đến Dataset 18 trong file excel. Tìm tỉ lệ mẫu của M&M có màu xanh lá cây (green). Sử dụng kết quả để xây dựng 1 ước lượng khoảng tin cậy 95% của tổng thể M&M có màu xanh."
   ]
  },
  {
   "cell_type": "code",
   "execution_count": 63,
   "metadata": {},
   "outputs": [
    {
     "data": {
      "text/plain": [
       "27"
      ]
     },
     "execution_count": 63,
     "metadata": {},
     "output_type": "execute_result"
    }
   ],
   "source": [
    "green_ratio = df[\"Green\"].count() / df.count().sum()\n",
    "\n",
    "df[\"Green\"].__len__()"
   ]
  },
  {
   "cell_type": "code",
   "execution_count": 65,
   "metadata": {},
   "outputs": [
    {
     "data": {
      "text/plain": [
       "(0.1527846544967492, 0.22721534550325082)"
      ]
     },
     "execution_count": 65,
     "metadata": {},
     "output_type": "execute_result"
    }
   ],
   "source": [
    "norm.interval(0.95, loc=green_ratio, scale=np.std(df[\"Green\"], ddof=1) / 3)"
   ]
  },
  {
   "cell_type": "markdown",
   "metadata": {},
   "source": [
    "## <u>Bài 2</u>"
   ]
  },
  {
   "cell_type": "markdown",
   "metadata": {},
   "source": [
    "Freshman Weight Gain liên quan đến Dataset 3 trong file excel\n",
    "\n",
    "a. Dựa vào kết quả của mẫu, tìm ước lượng điểm tốt nhất của tỉ lệ phần trăm các sinh viên cao đẳng tăng cân trong năm thứ 1.\n",
    "\n",
    "b. Xây dựng ước lượng khoảng tin cậy 95% về tỉ lệ phần trăm các sinh viên cao đẳng tăng cân trong năm thứ 1.\n"
   ]
  },
  {
   "cell_type": "code",
   "execution_count": null,
   "metadata": {},
   "outputs": [],
   "source": []
  },
  {
   "cell_type": "markdown",
   "metadata": {},
   "source": [
    "## <u>Bài 3</u>"
   ]
  },
  {
   "cell_type": "markdown",
   "metadata": {},
   "source": [
    "Lượng mưa ở Boston: liên quan đến Dataset 14 trong file excel, và quan tâm đến các ngày với các giá trị lượng mưa khác nhau từ 0 đến các ngày có mưa có giá trị lượng mưa lớn hơn 0.\n",
    "\n",
    "- Xây dựng ước lượng khoảng tin cậy 95% cho tỉ lệ mưa trong các ngày Thứ Tư và \n",
    "- Xây dựng ước lượng khoảng tin cậy 95% cho tỉ lệ mưa trong các ngày Chủ Nhật."
   ]
  },
  {
   "cell_type": "code",
   "execution_count": null,
   "metadata": {},
   "outputs": [],
   "source": []
  },
  {
   "cell_type": "markdown",
   "metadata": {},
   "source": [
    "## <u>Bài 4</u>"
   ]
  },
  {
   "cell_type": "markdown",
   "metadata": {},
   "source": [
    "Tổng số tiền phim: liên quan đến Dataset 9 trong file excel. Xây dựng ước tính khoảng thời gian tin cậy 95% của tổng số tiền trung bình cho quần thể của tất cả các phim. Giả định rằng độ lệch chuẩn của quần thể được biết là 100 triệu đô la. "
   ]
  },
  {
   "cell_type": "code",
   "execution_count": null,
   "metadata": {},
   "outputs": [],
   "source": []
  },
  {
   "cell_type": "markdown",
   "metadata": {},
   "source": [
    "## <u>Bài 5</u>"
   ]
  },
  {
   "cell_type": "markdown",
   "metadata": {},
   "source": [
    "Điểm đánh giá tín dụng FICO: liên quan đến Dataset 24 trong file excel. Xây dựng ước lượng khoảng tin cậy 99% của điểm FICO trung bình cho quần thể. Giả sử độ lệch chuẩn của quần thể là 92,2."
   ]
  },
  {
   "cell_type": "code",
   "execution_count": null,
   "metadata": {},
   "outputs": [],
   "source": []
  }
 ],
 "metadata": {
  "kernelspec": {
   "display_name": "Python 3",
   "language": "python",
   "name": "python3"
  },
  "language_info": {
   "codemirror_mode": {
    "name": "ipython",
    "version": 3
   },
   "file_extension": ".py",
   "mimetype": "text/x-python",
   "name": "python",
   "nbconvert_exporter": "python",
   "pygments_lexer": "ipython3",
   "version": "3.10.13"
  }
 },
 "nbformat": 4,
 "nbformat_minor": 2
}
