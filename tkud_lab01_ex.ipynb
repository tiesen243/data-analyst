{
  "cells": [
    {
      "cell_type": "markdown",
      "metadata": {
        "id": "Cj3g7_Xjv0cQ"
      },
      "source": [
        "# Lab 01 - Bài tập"
      ]
    },
    {
      "cell_type": "markdown",
      "metadata": {
        "id": "uHya_O8Nv9Bg"
      },
      "source": [
        "## PYTHON\n",
        "\n",
        "1. Viết chương trình nhập vào số nguyên n (n>0). In ra các số nguyên tố từ 1..n\n"
      ]
    },
    {
      "cell_type": "code",
      "source": [
        "def checkPrime(n:int):\n",
        "    if n <= 1:\n",
        "        return False\n",
        "    for i in range(2, int(n ** 0.5) + 1):\n",
        "        if n % i == 0:\n",
        "            return False\n",
        "    return True\n"
      ],
      "metadata": {
        "id": "JbtXncpxuAMt"
      },
      "execution_count": 7,
      "outputs": []
    },
    {
      "cell_type": "code",
      "execution_count": 8,
      "metadata": {
        "id": "AnQZ06Hxxwlo",
        "colab": {
          "base_uri": "https://localhost:8080/"
        },
        "outputId": "63b366c8-a815-47a1-e83f-a5b8dfa607ae"
      },
      "outputs": [
        {
          "name": "stdout",
          "output_type": "stream",
          "text": [
            "n = 50\n"
          ]
        },
        {
          "output_type": "execute_result",
          "data": {
            "text/plain": [
              "[2, 3, 5, 7, 11, 13, 17, 19, 23, 29, 31, 37, 41, 43, 47]"
            ]
          },
          "metadata": {},
          "execution_count": 8
        }
      ],
      "source": [
        "n = int(input('n = '))\n",
        "resOne = [i for i in range(n) if checkPrime(i)]\n",
        "\n",
        "resOne"
      ]
    },
    {
      "cell_type": "markdown",
      "metadata": {
        "id": "XpmGHRLRxx34"
      },
      "source": [
        "2. Viết chương trình nhập vào số nguyên n có 3 chữ số. Tính tổng các chữ số của n"
      ]
    },
    {
      "cell_type": "code",
      "execution_count": null,
      "metadata": {
        "id": "AXOFJ9Iwvtvh"
      },
      "outputs": [],
      "source": []
    },
    {
      "cell_type": "markdown",
      "metadata": {
        "id": "oba6gvmwyFrZ"
      },
      "source": [
        "3. Viết chương trình nhập vào một dãy các số nguyên được cách nhau bởi khoảng trắng (VD: 32 8 4 6 9...) lưu vào python ở dạng mảng. Thực hiện\n",
        "\n",
        "- Xuất mảng\n",
        "- Tính tổng các phần tử của mảng\n",
        "- Tìm số lớn nhất\n",
        "- Tìm số bé nhất\n",
        "- Sắp xếp mảng theo thứ tự giảm dần\n",
        "- In ra các số chẵn trong mảng"
      ]
    },
    {
      "cell_type": "code",
      "execution_count": null,
      "metadata": {
        "id": "9XBwANmGyFyY"
      },
      "outputs": [],
      "source": []
    },
    {
      "cell_type": "markdown",
      "metadata": {
        "id": "hgGOt_Cxyulx"
      },
      "source": [
        "4. Viết chương trình yêu cầu người dùng nhập họ tên. Hiển thị tên người dùng sau khi đã chuẩn hóa. Biết rằng tên đã chuẩn hóa là:\n",
        "- Ký tự đầu viết hoa\n",
        "- Không có khoảng trắng thừa\n",
        "- Không có ký tự đặc biệt"
      ]
    },
    {
      "cell_type": "code",
      "execution_count": null,
      "metadata": {
        "id": "duR4BF8Dyu_w"
      },
      "outputs": [],
      "source": []
    },
    {
      "cell_type": "markdown",
      "metadata": {
        "id": "W5KucasA0NSA"
      },
      "source": [
        "5. Viết chương trình nhập vào một số nguyên dương (n>0). Cho biết n có phải là số đối xứng hay không? Biết số đối xứng là số viết xuôi hay viết ngược đều như nhau"
      ]
    },
    {
      "cell_type": "code",
      "execution_count": null,
      "metadata": {
        "id": "FTH5V3je0YPg"
      },
      "outputs": [],
      "source": []
    }
  ],
  "metadata": {
    "colab": {
      "provenance": [],
      "toc_visible": true
    },
    "kernelspec": {
      "display_name": "Python 3",
      "name": "python3"
    },
    "language_info": {
      "name": "python"
    }
  },
  "nbformat": 4,
  "nbformat_minor": 0
}