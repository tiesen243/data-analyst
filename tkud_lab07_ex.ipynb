{
 "cells": [
  {
   "cell_type": "markdown",
   "metadata": {},
   "source": [
    "# BÀI TẬP"
   ]
  },
  {
   "cell_type": "code",
   "execution_count": 103,
   "metadata": {},
   "outputs": [],
   "source": [
    "import numpy as np\n",
    "import pandas as pd\n",
    "\n",
    "from scipy.stats import t, norm, chisquare"
   ]
  },
  {
   "cell_type": "markdown",
   "metadata": {},
   "source": [
    "## Kiểm định đặc trưng tỉ lệ (p)"
   ]
  },
  {
   "cell_type": "markdown",
   "metadata": {},
   "source": [
    "### Bài 1\n",
    "\n",
    "Dataset 18 (__M&M__) chứa thông tin trọng lượng và màu sắc của mẫu các viên kẹo của hãng M&M. \n",
    "\n",
    "Sử dụng mẫu trên bạn hãy kiểm tra phát biểu sau: __\"20% kẹo M&M có màu đỏ\"__ với mức ý nghĩa là 5%\n",
    "\n",
    "*Hướng dẫn: tính tỷ lệ các viên kẹo có màu đỏ từ dữ liệu, sử dụng kết quả để kiểm định phát biểu trên*"
   ]
  },
  {
   "cell_type": "code",
   "execution_count": 104,
   "metadata": {},
   "outputs": [
    {
     "data": {
      "text/html": [
       "<div>\n",
       "<style scoped>\n",
       "    .dataframe tbody tr th:only-of-type {\n",
       "        vertical-align: middle;\n",
       "    }\n",
       "\n",
       "    .dataframe tbody tr th {\n",
       "        vertical-align: top;\n",
       "    }\n",
       "\n",
       "    .dataframe thead th {\n",
       "        text-align: right;\n",
       "    }\n",
       "</style>\n",
       "<table border=\"1\" class=\"dataframe\">\n",
       "  <thead>\n",
       "    <tr style=\"text-align: right;\">\n",
       "      <th></th>\n",
       "      <th>Red</th>\n",
       "      <th>Orange</th>\n",
       "      <th>Yellow</th>\n",
       "      <th>Brown</th>\n",
       "      <th>Blue</th>\n",
       "      <th>Green</th>\n",
       "    </tr>\n",
       "  </thead>\n",
       "  <tbody>\n",
       "    <tr>\n",
       "      <th>0</th>\n",
       "      <td>0.751</td>\n",
       "      <td>0.735</td>\n",
       "      <td>0.883</td>\n",
       "      <td>0.696</td>\n",
       "      <td>0.881</td>\n",
       "      <td>0.925</td>\n",
       "    </tr>\n",
       "    <tr>\n",
       "      <th>1</th>\n",
       "      <td>0.841</td>\n",
       "      <td>0.895</td>\n",
       "      <td>0.769</td>\n",
       "      <td>0.876</td>\n",
       "      <td>0.863</td>\n",
       "      <td>0.914</td>\n",
       "    </tr>\n",
       "    <tr>\n",
       "      <th>2</th>\n",
       "      <td>0.856</td>\n",
       "      <td>0.865</td>\n",
       "      <td>0.859</td>\n",
       "      <td>0.855</td>\n",
       "      <td>0.775</td>\n",
       "      <td>0.881</td>\n",
       "    </tr>\n",
       "    <tr>\n",
       "      <th>3</th>\n",
       "      <td>0.799</td>\n",
       "      <td>0.864</td>\n",
       "      <td>0.784</td>\n",
       "      <td>0.806</td>\n",
       "      <td>0.854</td>\n",
       "      <td>0.865</td>\n",
       "    </tr>\n",
       "    <tr>\n",
       "      <th>4</th>\n",
       "      <td>0.966</td>\n",
       "      <td>0.852</td>\n",
       "      <td>0.824</td>\n",
       "      <td>0.840</td>\n",
       "      <td>0.810</td>\n",
       "      <td>0.865</td>\n",
       "    </tr>\n",
       "  </tbody>\n",
       "</table>\n",
       "</div>"
      ],
      "text/plain": [
       "     Red  Orange  Yellow  Brown   Blue  Green\n",
       "0  0.751   0.735   0.883  0.696  0.881  0.925\n",
       "1  0.841   0.895   0.769  0.876  0.863  0.914\n",
       "2  0.856   0.865   0.859  0.855  0.775  0.881\n",
       "3  0.799   0.864   0.784  0.806  0.854  0.865\n",
       "4  0.966   0.852   0.824  0.840  0.810  0.865"
      ]
     },
     "execution_count": 104,
     "metadata": {},
     "output_type": "execute_result"
    }
   ],
   "source": [
    "df_1 = pd.read_excel(\"data/18_M_M.xls\")\n",
    "df_1.head()"
   ]
  },
  {
   "cell_type": "code",
   "execution_count": 105,
   "metadata": {},
   "outputs": [
    {
     "name": "stdout",
     "output_type": "stream",
     "text": [
      "Z: -1.7500000000000002, p-value: 1.9198816862723658\n",
      "Fail to reject H0\n"
     ]
    }
   ],
   "source": [
    "alpha = 0.05\n",
    "expected_ratio = 0.2\n",
    "\n",
    "# Filter out red\n",
    "red = df_1[\"Red\"].count()\n",
    "total = df_1.count().sum()\n",
    "ratio = red / total\n",
    "\n",
    "# H0: ratio = 0.2\n",
    "# H1: ratio != 0.2\n",
    "\n",
    "# Z-test\n",
    "Z = (ratio - expected_ratio) / np.sqrt(expected_ratio * (1 - expected_ratio) / total)\n",
    "p_value = 2 * (1 - norm.cdf(Z))\n",
    "\n",
    "print(f\"Z: {Z}, p-value: {p_value}\")\n",
    "\n",
    "if p_value < alpha:\n",
    "    print(\"Reject H0\")\n",
    "else:\n",
    "    print(\"Fail to reject H0\")"
   ]
  },
  {
   "cell_type": "markdown",
   "metadata": {},
   "source": [
    "### Bài 2\n",
    "\n",
    "Dataset 3 (__FRESH15__) chứa thông tin khảo sát những thay đổi về trọng lượng (weight - WT) và chỉ số khối của cơ thể (BMI) của sinh viên năm nhất tại một trường Đại Học. Thời điểm khảo sát là bắt đầu học kỳ (tháng 9 - SEP) và kết thúc học kỳ (tháng 4 - APR), các sinh viên được chọn ngẫu nhiên trong trường.\n",
    "\n",
    "Sử dụng mẫu trên, hãy kiểm tra phát biểu:__\"50% số sinh viên trong trường là nam\"__ với mức ý nghĩa 50%\n",
    "\n",
    "Các thuộc tính trong bộ dữ liệu:\n",
    "- SEX: Giới tính\n",
    "- WTSEP: trọng lượng đo vào tháng 9 (mới nhập học)\n",
    "- WTAPR: trọng lượng đo vào tháng 4 (kết thúc năm học)\n",
    "- BMISP: BMI tháng 9\n",
    "- BMIAP: BMI tháng 4"
   ]
  },
  {
   "cell_type": "code",
   "execution_count": 106,
   "metadata": {},
   "outputs": [
    {
     "data": {
      "text/html": [
       "<div>\n",
       "<style scoped>\n",
       "    .dataframe tbody tr th:only-of-type {\n",
       "        vertical-align: middle;\n",
       "    }\n",
       "\n",
       "    .dataframe tbody tr th {\n",
       "        vertical-align: top;\n",
       "    }\n",
       "\n",
       "    .dataframe thead th {\n",
       "        text-align: right;\n",
       "    }\n",
       "</style>\n",
       "<table border=\"1\" class=\"dataframe\">\n",
       "  <thead>\n",
       "    <tr style=\"text-align: right;\">\n",
       "      <th></th>\n",
       "      <th>SEX</th>\n",
       "      <th>WTSEP</th>\n",
       "      <th>WTAPR</th>\n",
       "      <th>BMISP</th>\n",
       "      <th>BMIAP</th>\n",
       "    </tr>\n",
       "  </thead>\n",
       "  <tbody>\n",
       "    <tr>\n",
       "      <th>0</th>\n",
       "      <td>M</td>\n",
       "      <td>72</td>\n",
       "      <td>59</td>\n",
       "      <td>22.02</td>\n",
       "      <td>18.14</td>\n",
       "    </tr>\n",
       "    <tr>\n",
       "      <th>1</th>\n",
       "      <td>M</td>\n",
       "      <td>97</td>\n",
       "      <td>86</td>\n",
       "      <td>19.70</td>\n",
       "      <td>17.44</td>\n",
       "    </tr>\n",
       "    <tr>\n",
       "      <th>2</th>\n",
       "      <td>M</td>\n",
       "      <td>74</td>\n",
       "      <td>69</td>\n",
       "      <td>24.09</td>\n",
       "      <td>22.43</td>\n",
       "    </tr>\n",
       "    <tr>\n",
       "      <th>3</th>\n",
       "      <td>M</td>\n",
       "      <td>93</td>\n",
       "      <td>88</td>\n",
       "      <td>26.97</td>\n",
       "      <td>25.57</td>\n",
       "    </tr>\n",
       "    <tr>\n",
       "      <th>4</th>\n",
       "      <td>F</td>\n",
       "      <td>68</td>\n",
       "      <td>64</td>\n",
       "      <td>21.51</td>\n",
       "      <td>20.10</td>\n",
       "    </tr>\n",
       "  </tbody>\n",
       "</table>\n",
       "</div>"
      ],
      "text/plain": [
       "  SEX  WTSEP  WTAPR  BMISP  BMIAP\n",
       "0   M     72     59  22.02  18.14\n",
       "1   M     97     86  19.70  17.44\n",
       "2   M     74     69  24.09  22.43\n",
       "3   M     93     88  26.97  25.57\n",
       "4   F     68     64  21.51  20.10"
      ]
     },
     "execution_count": 106,
     "metadata": {},
     "output_type": "execute_result"
    }
   ],
   "source": [
    "df_2 = pd.read_excel(\"data/03_FRESH15.xls\")\n",
    "df_2.head()"
   ]
  },
  {
   "cell_type": "code",
   "execution_count": 108,
   "metadata": {},
   "outputs": [
    {
     "name": "stdout",
     "output_type": "stream",
     "text": [
      "Z: -0.36650833306891584, p-value: 1.286014204330618\n",
      "Fail to reject H0\n"
     ]
    }
   ],
   "source": [
    "alpha = 0.5\n",
    "expected_ratio = 0.5\n",
    "\n",
    "# Filter out data\n",
    "male = df_2[df_2[\"SEX\"] == \"M\"].shape[0]\n",
    "total = df_2.shape[0]\n",
    "ratio = male / total\n",
    "\n",
    "# H0: ratio = 0.5\n",
    "# H1: ratio != 0.5\n",
    "\n",
    "# Z-test\n",
    "Z = (ratio - expected_ratio) / np.sqrt(expected_ratio * (1 - expected_ratio) / total)\n",
    "p_value = 2 * (1 - norm.cdf(Z))\n",
    "\n",
    "print(f\"Z: {Z}, p-value: {p_value}\")\n",
    "\n",
    "if p_value < alpha:\n",
    "    print(\"Reject H0\")\n",
    "else:\n",
    "    print(\"Fail to reject H0\")"
   ]
  },
  {
   "cell_type": "markdown",
   "metadata": {},
   "source": [
    "### Bài 3\n",
    "\n",
    "Dataset 6(__BEARS__) chứa thông tin khảo sát ngẫu nhiên các con gấu trong một khu rừng.\n",
    "\n",
    "Sử dụng mẫu trên, bạn hãy kiểm tra phát biểu: __\"tỷ lệ gấu đực trong khu rừng là 50%\"\"__ với mức ý nghĩa 90%.\n",
    "\n",
    "Biết rằng thuộc tính SEX có hai giá trị: 1 - gấu đực, 2- gấu cái."
   ]
  },
  {
   "cell_type": "code",
   "execution_count": null,
   "metadata": {},
   "outputs": [],
   "source": [
    "df_3 = pd.read_excel('d')"
   ]
  },
  {
   "cell_type": "markdown",
   "metadata": {},
   "source": [
    "### Bài 4\n",
    "\n",
    "Dataset 9 __(MOVIES)__ chứa thông tin khảo sát một số phim trong khoảng thời gian 33 năm gần đây.\n",
    "\n",
    "Có ý kiến cho rằng: __\"55% các phim trong khoảng thời gian 33 năm gần đây có nhãn R (là phim giới hạn độ tuổi - Restricted)\"__ .Theo bạn với mức ý nghĩa 95% ý kiến trên có đúng không?\n",
    "\n",
    "Tham khảo: [Hệ thống phân loại của hiệp hội điện ảnh Mỹ](https://vi.wikipedia.org/wiki/H%E1%BB%87_th%E1%BB%91ng_ph%C3%A2n_lo%E1%BA%A1i_phim_c%E1%BB%A7a_MPAA#Ph%C3%A2n_lo%E1%BA%A1i_v%E1%BB%9Bi_c%C3%A1c_trailer_phim)"
   ]
  },
  {
   "cell_type": "markdown",
   "metadata": {},
   "source": [
    "## Kiểm định đặc trưng kỳ vọng ($\\mu$) biết ($\\sigma$)"
   ]
  },
  {
   "cell_type": "markdown",
   "metadata": {},
   "source": [
    "### Bài 5\n",
    "\n",
    "Dataset 13 __(VOLTAGE)__ liệt kê các mức điện áp được đo tại các hộ gia đình bởi các máy đo khác nhau: tại nhà (HOME), tại máy phát độc lập (Generator), tại trạm phát (UPS).\n",
    "\n",
    "Công ty cung cấp điện cho vùng này cam kết rằng: __\"Mục tiêu cung cấp điện cho mỗi hộ gia đình là 120V\"__ . Biết rằng độ lệch chuẩn của tất cả các mức điện áp đo được là 0.24V.\n",
    "\n",
    "Với mức ý nghĩa 1%. Bạn hãy kiểm tra xem công ty có làm đúng cam kết hay không?"
   ]
  },
  {
   "cell_type": "code",
   "execution_count": null,
   "metadata": {},
   "outputs": [],
   "source": []
  },
  {
   "cell_type": "markdown",
   "metadata": {},
   "source": [
    "## Kiểm định đặc trưng kỳ vọng ($\\mu$) không biết ($\\sigma$)"
   ]
  },
  {
   "cell_type": "markdown",
   "metadata": {},
   "source": [
    "### Bài 7\n",
    "\n",
    "Dataset 19(__SCREWS__) chứa thông tin khảo sát chiều dài một số đinh ốc được cung cấp bởi công ty Crown Bolt (đơn vị inches)\n",
    "\n",
    "Trên bao bì của các đinh ốc do công ty sản xuất có ghi chiều dài của các đinh ốc là 3/4 inches. Sử dụng mẫu trên bạn hãy cho biết chiều dài của đinh ốc lấy từ mẫu thu nhận được từ dữ liệu trên có nhất quán với chiều dài ghi trên bao bì hay không? Kiểm định với mức ý nghĩa 5%"
   ]
  },
  {
   "cell_type": "code",
   "execution_count": null,
   "metadata": {},
   "outputs": [],
   "source": []
  },
  {
   "cell_type": "markdown",
   "metadata": {},
   "source": [
    "### Bài 8\n",
    "\n",
    "Dataset 13 __(VOLTAGE)__ liệt kê các mức điện áp được đo tại các hộ gia đình bởi các máy đo khác nhau: tại nhà (HOME), tại máy phát độc lập (Generator), tại trạm phát (UPS).\n",
    "\n",
    "Công ty cung cấp điện cho vùng này cam kết rằng: __\"Mục tiêu cung cấp điện cho mỗi hộ gia đình là 120V\"__ .\n",
    "\n",
    "Với mức ý nghĩa 1%. Bạn hãy kiểm tra xem công ty có làm đúng cam kết hay không?"
   ]
  },
  {
   "cell_type": "code",
   "execution_count": null,
   "metadata": {},
   "outputs": [],
   "source": []
  },
  {
   "cell_type": "markdown",
   "metadata": {},
   "source": [
    "### Bài 9\n",
    "\n",
    "Dataset 2 __(BODYTEMP)__ chứa thông tin khảo sát nhiệt độ cơ thể từ một nhóm người vào cùng một thời điểm lúc 12h trưa.\n",
    "\n",
    "Có một phát biểu nói rằng, nhiệt độ cơ thể người đo lúc 12h trưa trong quần thể này là 98,6°\n",
    "\n",
    "Dựa vào mẫu trên, bạn hãy cho biết phát biểu trên đúng hay sai ở mức ý nghĩa là 5%."
   ]
  },
  {
   "cell_type": "code",
   "execution_count": null,
   "metadata": {},
   "outputs": [],
   "source": []
  },
  {
   "cell_type": "markdown",
   "metadata": {},
   "source": [
    "### Bài 10\n",
    "\n",
    "__FICO Score__ là đại lượng dùng để đo khả năng tín dụng của một cá nhân hoặc một tập thể. Sử dụng FICO Score, ngân hàng có thể quyết định xem có nên cho khách hàng mượn tiền hay không?\n",
    "\n",
    "Dataset 24 __(FICO)__ chứa thông tin điểm tín dụng (FICO Score) của một số cá nhân trong vùng.\n",
    "\n",
    "Sử dụng dữ liệu mẫu từ, bạn hãy cho biết ý kiến: __\"điểm tín dùng trung bình của quần thể là 678\"__ là đúng hay sai với mức ý nghĩa 5%"
   ]
  },
  {
   "cell_type": "code",
   "execution_count": null,
   "metadata": {},
   "outputs": [],
   "source": []
  },
  {
   "cell_type": "markdown",
   "metadata": {},
   "source": [
    "---"
   ]
  }
 ],
 "metadata": {
  "kernelspec": {
   "display_name": "Python 3",
   "language": "python",
   "name": "python3"
  },
  "language_info": {
   "codemirror_mode": {
    "name": "ipython",
    "version": 3
   },
   "file_extension": ".py",
   "mimetype": "text/x-python",
   "name": "python",
   "nbconvert_exporter": "python",
   "pygments_lexer": "ipython3",
   "version": "3.10.13"
  }
 },
 "nbformat": 4,
 "nbformat_minor": 2
}
