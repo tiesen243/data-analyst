{
 "cells": [
  {
   "cell_type": "code",
   "execution_count": 101,
   "metadata": {},
   "outputs": [],
   "source": [
    "import numpy as np\n",
    "import pandas as pd\n",
    "\n",
    "from scipy.stats import binom, hypergeom, poisson, geom"
   ]
  },
  {
   "cell_type": "markdown",
   "metadata": {},
   "source": [
    "## Phan phoi xac suat"
   ]
  },
  {
   "cell_type": "code",
   "execution_count": 102,
   "metadata": {},
   "outputs": [
    {
     "name": "stdout",
     "output_type": "stream",
     "text": [
      "Xac suat 2 san pham bi loi: 0.282\n"
     ]
    }
   ],
   "source": [
    "# 1\n",
    "M = 8000\n",
    "n = 2000\n",
    "N = 10\n",
    "\n",
    "print(f\"Xac suat 2 san pham bi loi: {hypergeom.pmf(2, M, n, N).round(3)}\")"
   ]
  },
  {
   "cell_type": "code",
   "execution_count": 103,
   "metadata": {},
   "outputs": [
    {
     "name": "stdout",
     "output_type": "stream",
     "text": [
      "Xac suat 3 truong hop phan ung: 0.18\n",
      "Xac suat nhieu nhat 3 truong hop phan ung: 0.86\n",
      "Xac suat nhieu hon 3 truong hop phan ung: 0.14\n"
     ]
    }
   ],
   "source": [
    "# 2\n",
    "lamb = 1 / 1000\n",
    "n = 2000\n",
    "\n",
    "print(f\"Xac suat 3 truong hop phan ung: {poisson.pmf(3,lamb*n).round(2)}\")\n",
    "print(f\"Xac suat nhieu nhat 3 truong hop phan ung: {poisson.cdf(3,lamb*n).round(2)}\")\n",
    "print(f\"Xac suat nhieu hon 3 truong hop phan ung: {1- poisson.cdf(3,lamb*n).round(2)}\")"
   ]
  },
  {
   "cell_type": "code",
   "execution_count": 104,
   "metadata": {},
   "outputs": [
    {
     "name": "stdout",
     "output_type": "stream",
     "text": [
      "Xac suat nhieu nhat 1 thiet bi bi loi: 0.848\n",
      "So lan can quan sat de xac suat it nhat 1 san pham bi loi >= 0.9: 32.0\n"
     ]
    }
   ],
   "source": [
    "# 3\n",
    "fail_rate = 0.07\n",
    "\n",
    "# a\n",
    "n = 10\n",
    "print(f\"Xac suat nhieu nhat 1 thiet bi bi loi: {binom.cdf(1, n, fail_rate).round(3)}\")\n",
    "\n",
    "print(\n",
    "    f\"So lan can quan sat de xac suat it nhat 1 san pham bi loi >= 0.9: {geom.ppf(0.9,fail_rate).round()}\"\n",
    ")"
   ]
  },
  {
   "cell_type": "code",
   "execution_count": 105,
   "metadata": {},
   "outputs": [
    {
     "name": "stdout",
     "output_type": "stream",
     "text": [
      "Xac suat khong truong hop nao: 0.818\n",
      "Xac suat co dung 1 truong hop: 0.165\n",
      "Xac suat co nhieu hon 1 truong hop: 0.017\n"
     ]
    }
   ],
   "source": [
    "# 4\n",
    "p = 0.01\n",
    "n = 20\n",
    "\n",
    "print(f\"Xac suat khong truong hop nao: {binom.pmf(0, n, p).round(3)}\")\n",
    "print(f\"Xac suat co dung 1 truong hop: {binom.pmf(1, n, p).round(3)}\")\n",
    "print(f\"Xac suat co nhieu hon 1 truong hop: {(1 - binom.cdf(1, n, p)).round(3)}\")"
   ]
  },
  {
   "cell_type": "code",
   "execution_count": 106,
   "metadata": {},
   "outputs": [
    {
     "name": "stdout",
     "output_type": "stream",
     "text": [
      "Xac suat co it nhat 95 sp loai A: 0.6379\n"
     ]
    }
   ],
   "source": [
    "# 5\n",
    "A_ratio = 0.485\n",
    "n = 200\n",
    "\n",
    "print(f\"Xac suat co it nhat 95 sp loai A: {1 - binom.cdf(94, n, A_ratio).round(4)}\")"
   ]
  },
  {
   "cell_type": "code",
   "execution_count": 107,
   "metadata": {},
   "outputs": [
    {
     "name": "stdout",
     "output_type": "stream",
     "text": [
      "Xac suat co 1 cuoc goi moi phut: 0.149\n",
      "Xac suat co 2 cuoc goi moi phut: 0.224\n",
      "Xac suat co 3 cuoc goi moi phut: 0.224\n"
     ]
    }
   ],
   "source": [
    "# 6\n",
    "lamb = 3\n",
    "\n",
    "print(f\"Xac suat co 1 cuoc goi moi phut: {poisson.pmf(1, lamb).round(3)}\")\n",
    "print(f\"Xac suat co 2 cuoc goi moi phut: {poisson.pmf(2, lamb).round(3)}\")\n",
    "print(f\"Xac suat co 3 cuoc goi moi phut: {poisson.pmf(3, lamb).round(3)}\")"
   ]
  },
  {
   "cell_type": "code",
   "execution_count": 108,
   "metadata": {},
   "outputs": [
    {
     "name": "stdout",
     "output_type": "stream",
     "text": [
      "Xac xuat khong phai 4 oto deu duoc thue: 0.865\n",
      "Xac xuat ca 4 oto deu duoc thue: 0.135\n",
      "Xac suat de khong dat yeu cau: 0.677\n"
     ]
    }
   ],
   "source": [
    "# 7\n",
    "lamb = 2\n",
    "n = 4\n",
    "\n",
    "print(f\"Xac xuat khong phai 4 oto deu duoc thue: {1 - poisson.pmf(4-n, lamb).round(3)}\")\n",
    "print(f\"Xac xuat ca 4 oto deu duoc thue: {poisson.pmf(4-n, lamb).round(3)}\")\n",
    "print(f\"Xac suat de khong dat yeu cau: {poisson.cdf(4-lamb,lamb).round(3)}\")"
   ]
  },
  {
   "cell_type": "markdown",
   "metadata": {},
   "source": [
    "## Uoc luong"
   ]
  },
  {
   "cell_type": "markdown",
   "metadata": {},
   "source": [
    "### Uoc luong trung binh"
   ]
  },
  {
   "cell_type": "code",
   "execution_count": 109,
   "metadata": {},
   "outputs": [
    {
     "name": "stdout",
     "output_type": "stream",
     "text": [
      "Khoang tin cay 95%: 0.0973 - 0.1027\n"
     ]
    }
   ],
   "source": [
    "# 1\n",
    "n = 100\n",
    "mean = 0.1\n",
    "s = 0.014\n",
    "\n",
    "conf = 1.96 * s / np.sqrt(n)\n",
    "print(f\"Khoang tin cay 95%: {np.round(mean - conf, 4)} - {np.round(mean + conf, 4)}\")"
   ]
  },
  {
   "cell_type": "code",
   "execution_count": 110,
   "metadata": {},
   "outputs": [
    {
     "name": "stdout",
     "output_type": "stream",
     "text": [
      "Khoang tin cay 95%: 375.427 - 384.573\n"
     ]
    }
   ],
   "source": [
    "# 2\n",
    "n = 36\n",
    "mean = 380\n",
    "sigma = 14\n",
    "\n",
    "conf = 1.96 * sigma / np.sqrt(n)\n",
    "\n",
    "print(f\"Khoang tin cay 95%: {np.round(mean - conf, 3)} - {np.round(mean + conf, 3)}\")"
   ]
  },
  {
   "cell_type": "code",
   "execution_count": 111,
   "metadata": {},
   "outputs": [
    {
     "name": "stdout",
     "output_type": "stream",
     "text": [
      "Khoang tin cay 90%: 5150.521 - 5499.479\n"
     ]
    }
   ],
   "source": [
    "# 3\n",
    "\n",
    "data = np.array([4500, 6500, 5200, 4800, 4900, 5125, 6200, 5375])\n",
    "\n",
    "sigma = 300\n",
    "mean = np.mean(data)\n",
    "conf = 1.645 * sigma / np.sqrt(len(data))\n",
    "\n",
    "print(f\"Khoang tin cay 90%: {np.round(mean - conf, 3)} - {np.round(mean + conf, 3)}\")"
   ]
  },
  {
   "cell_type": "code",
   "execution_count": 112,
   "metadata": {},
   "outputs": [
    {
     "name": "stdout",
     "output_type": "stream",
     "text": [
      "Khoang tin cay 95%: 24.155 - 27.401\n"
     ]
    }
   ],
   "source": [
    "# 4\n",
    "\n",
    "data = np.array([27, 26, 21, 28, 25, 30, 26, 23, 26])\n",
    "\n",
    "mean = np.mean(data)\n",
    "sigma = np.std(data)\n",
    "n = len(data)\n",
    "\n",
    "conf = 1.96 * sigma / np.sqrt(n)\n",
    "\n",
    "print(f\"Khoang tin cay 95%: {np.round(mean - conf, 3)} - {np.round(mean + conf, 3)}\")"
   ]
  },
  {
   "cell_type": "markdown",
   "metadata": {},
   "source": [
    "| X (cm)| 140-145| 145-150| 150-155| 155-160| 160-165| 165-170|\n",
    "|----------|--|---|---|---|---|---|\n",
    "| so nguoi|1|3|7|9|5|2|"
   ]
  },
  {
   "cell_type": "code",
   "execution_count": 121,
   "metadata": {},
   "outputs": [
    {
     "data": {
      "text/plain": [
       "(155.0, 8.539125638299666)"
      ]
     },
     "execution_count": 121,
     "metadata": {},
     "output_type": "execute_result"
    }
   ],
   "source": [
    "# 5\n",
    "\n",
    "# | X (cm)| 140-145| 145-150| 150-155| 155-160| 160-165| 165-170|\n",
    "# |----------|--|---|---|---|---|---|\n",
    "# | so nguoi|1|3|7|9|5|2|\n",
    "\n",
    "# tinh trung binh va phuong sai mau\n",
    "data = np.array([142.5, 147.5, 152.5, 157.5, 162.5, 167.5])\n",
    "mean = np.mean(data)\n",
    "sigma = np.std(data)\n",
    "\n",
    "mean, sigma"
   ]
  }
 ],
 "metadata": {
  "kernelspec": {
   "display_name": "Python 3",
   "language": "python",
   "name": "python3"
  },
  "language_info": {
   "codemirror_mode": {
    "name": "ipython",
    "version": 3
   },
   "file_extension": ".py",
   "mimetype": "text/x-python",
   "name": "python",
   "nbconvert_exporter": "python",
   "pygments_lexer": "ipython3",
   "version": "3.10.13"
  }
 },
 "nbformat": 4,
 "nbformat_minor": 2
}
