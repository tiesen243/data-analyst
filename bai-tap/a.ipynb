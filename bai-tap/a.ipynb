{
 "cells": [
  {
   "cell_type": "markdown",
   "metadata": {},
   "source": [
    "<h1 align='center'>Bai tap</h1>"
   ]
  },
  {
   "cell_type": "code",
   "execution_count": 408,
   "metadata": {},
   "outputs": [],
   "source": [
    "import numpy as np\n",
    "\n",
    "from scipy.stats import binom, hypergeom, poisson, geom, norm, t"
   ]
  },
  {
   "cell_type": "markdown",
   "metadata": {},
   "source": [
    "## Phan phoi xac suat"
   ]
  },
  {
   "cell_type": "code",
   "execution_count": 409,
   "metadata": {},
   "outputs": [
    {
     "name": "stdout",
     "output_type": "stream",
     "text": [
      "P(X=2) = 0.2816966992092578\n"
     ]
    }
   ],
   "source": [
    "\"\"\" 1. \n",
    "Có 8000 sản phẩm trong đó có 2000 sản phẩm không đạt tiêu chuẩn kỹ thuật. \n",
    "Lấy ngẫu nhiên (không hoàn lại) 10 sản phẩm. \n",
    "Tính xác suất để trong 10 sản phẩm lấy ra có 2 sản phẩm không đạt tiêu chuẩn.\n",
    "\"\"\"\n",
    "\n",
    "N = 8000\n",
    "K = 2000\n",
    "n = 10\n",
    "\n",
    "print(f\"P(X=2) = {hypergeom.pmf(2, N, K, n)}\")"
   ]
  },
  {
   "cell_type": "code",
   "execution_count": 410,
   "metadata": {},
   "outputs": [
    {
     "name": "stdout",
     "output_type": "stream",
     "text": [
      "P(X=3) = 0.18\n",
      "P(X<=3) = 0.86\n",
      "P(X>3) = 0.14\n"
     ]
    }
   ],
   "source": [
    "\"\"\" 2. \n",
    "Khi tiêm truyền một loại huyết thanh, trung bình có một trường hợp phản ứng trên 1000 trường hợp. \n",
    "Dùng loại huyết thanh này tiêm cho 2000 người. Tính xác suất để:\n",
    "\"\"\"\n",
    "\n",
    "n = 2000\n",
    "lamb = 1 / 1000\n",
    "\n",
    "# a. có 3 trường hợp phản ứng\n",
    "print(f\"P(X=3) = {poisson.pmf(3, lamb*n).round(3).round(2)}\")\n",
    "\n",
    "# b. có nhiều nhất 3 trường hợp phản ứng\n",
    "print(f\"P(X<=3) = {poisson.cdf(3, lamb*n).round(3).round(2)}\")\n",
    "\n",
    "# c. có nhiều hơn 3 trường hợp phản ứng\n",
    "print(f\"P(X>3) = {1 - poisson.cdf(3, lamb*n).round(3).round(2)}\")"
   ]
  },
  {
   "cell_type": "code",
   "execution_count": 411,
   "metadata": {},
   "outputs": [
    {
     "name": "stdout",
     "output_type": "stream",
     "text": [
      "P(X<=1) = 0.848\n"
     ]
    },
    {
     "data": {
      "text/plain": [
       "32.0"
      ]
     },
     "execution_count": 411,
     "metadata": {},
     "output_type": "execute_result"
    }
   ],
   "source": [
    "# 3. Một nhà máy sản xuất với tỷ lệ phế phẩm là 7%.\n",
    "\n",
    "fail_rate = 0.07\n",
    "\n",
    "# a. Quan sát ngẫu nhiên 10 sản phẩm. Tính xác suất để trong số các sản phẩm quan sát có nhiều nhất một phế phẩm\n",
    "n = 10\n",
    "print(f\"P(X<=1) = {binom.cdf(1, n, fail_rate).round(3)}\")\n",
    "\n",
    "# b. Hỏi phải quan sát ít nhất bao nhiêu sản phẩm để xác suất nhận được ít nhất một phế phẩm lớn hơn hoặc bằng 90%\n",
    "geom.ppf(0.9, fail_rate)"
   ]
  },
  {
   "cell_type": "code",
   "execution_count": 412,
   "metadata": {},
   "outputs": [
    {
     "name": "stdout",
     "output_type": "stream",
     "text": [
      "P(X=0) = 0.819\n",
      "P(X=1) = 0.164\n",
      "P(X>1) = 0.018000000000000016\n",
      "--------------------\n",
      "P(X=0) = 0.818\n",
      "P(X=1) = 0.165\n",
      "P(X>1) = 0.017000000000000015\n"
     ]
    }
   ],
   "source": [
    "\"\"\" 4. \n",
    "Tỷ lệ một loại bệnh bẩm sinh trong dân số là p = 0.01. \n",
    "Loại bệnh này cần sự chăm sóc đặc biệt lúc mới sinh. \n",
    "Một nhà bảo sinh thường có 20 ca sinh trong một tuần. Tính xác suất để:\n",
    "\"\"\"\n",
    "\n",
    "p = 0.01\n",
    "n = 20\n",
    "\n",
    "# a. Không có trường hợp nào cần chăm sóc đặc biệt\n",
    "print(f\"P(X=0) = {poisson.pmf(0, p*n).round(3)}\")\n",
    "\n",
    "# b. Có đúng một trường hợp cần chăm sóc đặc biệt\n",
    "print(f\"P(X=1) = {poisson.pmf(1, p*n).round(3)}\")\n",
    "\n",
    "# c. Có nhiều hơn một trường hợp cần chăm sóc đặc biệt\n",
    "print(f\"P(X>1) = {1 - poisson.cdf(1, p*n).round(3)}\")\n",
    "\n",
    "# d. Sử dụng phân phối Poisson để tính xấp xỉ cho các câu trên và so sánh với kết quả của phân phối Nhị Thức\n",
    "print(\"-\" * 20)\n",
    "print(f\"P(X=0) = {binom.pmf(0, n, p).round(3)}\")\n",
    "print(f\"P(X=1) = {binom.pmf(1, n, p).round(3)}\")\n",
    "print(f\"P(X>1) = {1 - binom.cdf(1, n, p).round(3)}\")"
   ]
  },
  {
   "cell_type": "code",
   "execution_count": 413,
   "metadata": {},
   "outputs": [
    {
     "name": "stdout",
     "output_type": "stream",
     "text": [
      "Mean: 12.0\n",
      "Std: 2.1908902300206647\n",
      "Mod: 12.0\n",
      "P(X <= 10): 0.245\n",
      "P(X > 12): 0.416\n",
      "P(X = 11): 0.16\n"
     ]
    }
   ],
   "source": [
    "\"\"\" 5. \n",
    "Tỷ lệ cử tri ủng hộ ứng cử viên A trong một cuộc bầu cử là 60%. \n",
    "Người ta hỏi ý kiến 20 cử tri được chọn một cách ngẫu nhiên. \n",
    "Gọi X là số người bỏ phiếu cho A trong 20 người được hỏi.\n",
    "\"\"\"\n",
    "\n",
    "p = 0.6\n",
    "n = 20\n",
    "\n",
    "# a.  Tìm giá trị trung bình, độ lệch chuẩn và Mod của X\n",
    "mean = n * p\n",
    "std = np.sqrt(n * p * (1 - p))\n",
    "mod = np.floor(mean)\n",
    "print(f\"Mean: {mean}\\nStd: {std}\\nMod: {mod}\")\n",
    "\n",
    "# b. Tìm P (X ≤ 10)\n",
    "print(f\"P(X <= 10): {binom.cdf(10, n, p).round(3)}\")\n",
    "\n",
    "# c. Tìm P (X > 12)\n",
    "print(f\"P(X > 12): {(1 - binom.cdf(12, n, p)).round(3)}\")\n",
    "\n",
    "# d. Tìm P (X = 11)\n",
    "print(f\"P(X = 11): {binom.pmf(11, n, p).round(3)}\")"
   ]
  },
  {
   "cell_type": "code",
   "execution_count": 414,
   "metadata": {},
   "outputs": [
    {
     "name": "stdout",
     "output_type": "stream",
     "text": [
      "P(X >= 95): 0.638\n"
     ]
    }
   ],
   "source": [
    "\"\"\" 6. \n",
    "Một nhà máy có tỷ lệ sản phẩm loại A chiếm 48.5%. \n",
    "Chọn ngẫu nhiên 200 sản phẩm, tính xác suất để trong đó có ít nhất 95 sản phẩm loại A\n",
    "\"\"\"\n",
    "\n",
    "p = 0.485\n",
    "n = 200\n",
    "\n",
    "print(f\"P(X >= 95): {(1 - binom.cdf(94, n, p)).round(3)}\")"
   ]
  },
  {
   "cell_type": "code",
   "execution_count": 415,
   "metadata": {},
   "outputs": [
    {
     "name": "stdout",
     "output_type": "stream",
     "text": [
      "P(X=1): 0.149\n",
      "P(X=2): 0.224\n",
      "P(X=3): 0.224\n"
     ]
    }
   ],
   "source": [
    "\"\"\" 7.  \n",
    "Một trung tâm bưu điện nhận được trung bình 3 cuộc điện thoại trong mỗi phút. \n",
    "Biết rằng số cuộc gọi trong một phút có phân phối Poisson. \n",
    "Tính xác suất để trung tâm này nhận được 1 cuộc, 2 cuộc, 3 cuộc gọi trong 1 phút.\n",
    "\"\"\"\n",
    "\n",
    "lamb = 3\n",
    "n = 1\n",
    "\n",
    "print(f\"P(X=1): {poisson.pmf(1, lamb).round(3)}\")\n",
    "print(f\"P(X=2): {poisson.pmf(2, lamb).round(3)}\")\n",
    "print(f\"P(X=3): {poisson.pmf(3, lamb).round(3)}\")"
   ]
  },
  {
   "cell_type": "code",
   "execution_count": 416,
   "metadata": {},
   "outputs": [
    {
     "name": "stdout",
     "output_type": "stream",
     "text": [
      "P(X<3): 0.857\n",
      "P(X>3): 0.143\n",
      "P(X>=5): 0.053\n",
      "Mean: 2\n",
      "Min cars needed: 5\n"
     ]
    }
   ],
   "source": [
    "\"\"\" 8.\n",
    "Một cửa hàng cho thuê xe ôtô nhận thấy rằng số người đến thuê xe ôtô vào ngày cuối tuần là\n",
    "một đại lượng ngẫu nhiên có phân phối Poisson với tham số λ = 2. Giả sử cửa hàng có 4 chiếc ôtô.\n",
    "\"\"\"\n",
    "\n",
    "lamb = 2\n",
    "n = 4\n",
    "\n",
    "# a. Tìm xác suất không phải tất cả 4 chiếc ôtô đều được thuê\n",
    "print(f\"P(X<3): {poisson.cdf(3, lamb).round(3)}\")\n",
    "\n",
    "# . Tìm xác suất tất cả 4 chiếc ôtô đều được thuê\n",
    "print(f\"P(X>3): {(1 - poisson.cdf(3, lamb)).round(3)}\")\n",
    "\n",
    "# c. Tìm xác suất cửa hàng không đáp ứng được yêu cầu\n",
    "print(f\"P(X>=5): {(1 - poisson.cdf(4, lamb)).round(3)}\")\n",
    "\n",
    "# d. Trung bình có bao nhiêu ôtô được thuê.\n",
    "print(f\"Mean: {lamb}\")\n",
    "\n",
    "# e. Cửa hàng cần có ít nhất bao nhiêu ôtô để xác suất không đáp ứng được nhu cầu thuê bé hơn 2%\n",
    "lamb = 2\n",
    "threshold = 0.02\n",
    "\n",
    "cars = 0\n",
    "while True:\n",
    "    prob = 1 - poisson.cdf(cars, lamb)\n",
    "    if prob < threshold:\n",
    "        print(f\"Min cars needed: {cars}\")\n",
    "        break\n",
    "    cars += 1"
   ]
  },
  {
   "cell_type": "code",
   "execution_count": 417,
   "metadata": {},
   "outputs": [
    {
     "name": "stdout",
     "output_type": "stream",
     "text": [
      "P(X=7): 0.06\n",
      "P(X<=3): 0.433\n"
     ]
    }
   ],
   "source": [
    "\"\"\" 9.\n",
    "Tại một điểm bán vé máy bay, trung bình trong 10 phút có 4 người đến mua vé. \n",
    "Tính xác suất để:\n",
    "\"\"\"\n",
    "\n",
    "lamb = 4\n",
    "n = 10\n",
    "\n",
    "# a. Trong 10 phút có 7 người đến mua vé\n",
    "print(f\"P(X=7): {poisson.pmf(7, lamb).round(3)}\")\n",
    "\n",
    "# b. Trong 10 phút có không quá 3 người đến mua vé\n",
    "print(f\"P(X<=3): {poisson.cdf(3, lamb).round(3)}\")"
   ]
  },
  {
   "cell_type": "code",
   "execution_count": 418,
   "metadata": {},
   "outputs": [
    {
     "name": "stdout",
     "output_type": "stream",
     "text": [
      "P(2<=X<=4): 0.26058127082977167\n",
      "P(U<=1): 3.75727673578106e-42\n"
     ]
    }
   ],
   "source": [
    "\"\"\" 10.\n",
    "Giả sử số cuộc gọi điện đến tổng đài trong mỗi phút là một biến ngẫu nhiên tuân theo phân phối Poisson. \n",
    "Từ kinh nghiệm có được trong quá khứ, người ta nhận thấy rằng xác suất nhận\n",
    "được chính xác một cuộc gọi trong một phút bằng ba lần xác suất không nhận được cuộc gọi\n",
    "nào trong cùng khoảng thời gian.\n",
    "\"\"\"\n",
    "\n",
    "lamb = 1\n",
    "\n",
    "# a.  Gọi X là số cuộc gọi nhận được trong mỗi phút. Tính xác suất P(2 ≤ X ≤ 4)\n",
    "print(f\"P(2<=X<=4): {poisson.cdf(4, lamb) - poisson.cdf(1, lamb)}\")\n",
    "\n",
    "\"\"\" b. Xét 100 khoảng thời gian một phút liên tiếp, \n",
    "gọi U là số khoảng thời gian (trong số 100 khoảng thời gian trên)\n",
    "không nhận được cuộc gọi điện nào. Tính P (U ≤ 1)\n",
    "\"\"\"\n",
    "n = 100\n",
    "print(f\"P(U<=1): {poisson.cdf(1, lamb*n)}\")\n",
    "\n",
    "# dfsdaassdsadadsa"
   ]
  },
  {
   "cell_type": "code",
   "execution_count": 419,
   "metadata": {},
   "outputs": [
    {
     "name": "stdout",
     "output_type": "stream",
     "text": [
      "P(X<91 or X>130): 0.29710000000000003\n"
     ]
    }
   ],
   "source": [
    "\"\"\" 11.\n",
    "Các kết quả của bài kiểm tra chỉ số thông minh (IQ) cho các học sinh của một trường tiểu học\n",
    "cho thấy điểm IQ của các học sinh tuân theo phân phối chuẩn với các tham số là μ = 100 và σ = 15.\n",
    "Tính tỷ lệ học sinh có điểm IQ nhỏ hơn 91 hoặc lớn hơn 130?\n",
    "\"\"\"\n",
    "\n",
    "mu = 100\n",
    "sigma = 15\n",
    "\n",
    "print(\n",
    "    f\"P(X<91 or X>130): {1 - (norm.cdf(130, mu, sigma).round(4) - norm.cdf(91, mu, sigma)).round(4)}\"\n",
    ")"
   ]
  },
  {
   "cell_type": "code",
   "execution_count": 420,
   "metadata": {},
   "outputs": [
    {
     "name": "stdout",
     "output_type": "stream",
     "text": [
      "P(49.9<=X<=50.1): 95.45%\n",
      "P(X>=1): 0.99999\n"
     ]
    }
   ],
   "source": [
    "\"\"\" 12.\n",
    "Đường kính của một chi tiết máy do một máy tiện tự động sản xuất \n",
    "có phân phối chuẩn với trung bình μ = 50 mm và độ lệch chuẩn σ = 0.05 mm. \n",
    "Chi tiết máy được xem là đạt tiêu chuẩn nếu đường kính không sai lệch quá 0.1 mm so với giá trị trung bình.\n",
    "\"\"\"\n",
    "\n",
    "mu = 50\n",
    "sigma = 0.05\n",
    "\n",
    "# a. Tính tỷ lệ sản phẩm đạt yêu cầu.\n",
    "res = norm.cdf(50.1, mu, sigma) - norm.cdf(49.9, mu, sigma)\n",
    "print(f\"P(49.9<=X<=50.1): {res.round(4)*100}%\")\n",
    "\n",
    "# b. Lấy ngẫu nhiên 3 sản phẩm. Tính xác suất có ít nhất một sản phẩm đạt yêu cầu.\n",
    "n = 3\n",
    "res = 1 - norm.cdf(49.9, mu, sigma).round(4) ** n\n",
    "print(f\"P(X>=1): {res.round(5)}\")"
   ]
  },
  {
   "cell_type": "code",
   "execution_count": 421,
   "metadata": {},
   "outputs": [
    {
     "name": "stdout",
     "output_type": "stream",
     "text": [
      "P(X>505): 0.106\n",
      "P(495<=X<=505): 0.789\n",
      "P(X<490): 1.006\n"
     ]
    }
   ],
   "source": [
    "\"\"\" 13.\n",
    "Trọng lượng X (gam) của một loại trái cây là biến ngẫu nhiên có phân phối chuẩn, với μ = 500 (gam) và σ**2 = 16 (gam**2). \n",
    "Trái cây thu hoạch được phân loại theo trọng lượng như sau:\n",
    "\"\"\"\n",
    "\n",
    "mu = 500\n",
    "sigma = 4\n",
    "\n",
    "# a.  loại 1 : trên 505 gam\n",
    "print(f\"P(X>505): {(1 - norm.cdf(505, mu, sigma)).round(3)}\")\n",
    "\n",
    "# b. loại 2 : từ 495 đến 505 gam\n",
    "print(\n",
    "    f\"P(495<=X<=505): {(norm.cdf(505, mu, sigma) - norm.cdf(495, mu, sigma)).round(3)}\"\n",
    ")\n",
    "\n",
    "# c. loại 3 : dưới 490 gam\n",
    "print(f\"P(X<490): {1 + (norm.cdf(490, mu, sigma)).round(3)}\")"
   ]
  },
  {
   "cell_type": "code",
   "execution_count": 422,
   "metadata": {},
   "outputs": [
    {
     "name": "stdout",
     "output_type": "stream",
     "text": [
      "P(X1>=80): 0.885\n",
      "P(X2>=80): 0.977\n"
     ]
    }
   ],
   "source": [
    "\"\"\" 14. \n",
    "Một công ty kinh doanh dự định sẽ áp dụng một trong hai phương án kinh doanh s. Ta ký hiệu:\n",
    "- X1 là lợi nhuận (triệu/tháng) thu được khi áp dụng phương án thứ nhất\n",
    "- X2 là lợi nhuận (triệu/tháng) thu được khi áp dụng phương án thứ hai\n",
    "\n",
    "Giả sử ta có đề là biến ngẫu nhiên có phân phối chuẩn với X1 ∼ N(140, 50**2), X2 ∼ N(200, 60**2). \n",
    "Biết rằng để công ty tồn tại và phát triển thì lợi nhuận thu được phải đạt ít nhất 80 triệu đồng/tháng. \n",
    "Theo bạn công ty nên áp dụng phương án nào để kinh doanh?\n",
    "\"\"\"\n",
    "\n",
    "mu1 = 140\n",
    "sigma1 = 50\n",
    "mu2 = 200\n",
    "sigma2 = 60\n",
    "\n",
    "# Tính xác suất lợi nhuận của phương án 1 và phương án 2 đạt ít nhất 80 triệu đồng/tháng.\n",
    "res1 = 1 - norm.cdf(80, mu1, sigma1)\n",
    "res2 = 1 - norm.cdf(80, mu2, sigma2)\n",
    "print(f\"P(X1>=80): {res1.round(3)}\")\n",
    "print(f\"P(X2>=80): {res2.round(3)}\")\n",
    "\n",
    "# => Công ty nên áp dụng phương án 2 để kinh doanh."
   ]
  },
  {
   "cell_type": "code",
   "execution_count": 423,
   "metadata": {},
   "outputs": [
    {
     "name": "stdout",
     "output_type": "stream",
     "text": [
      "P(X>180): 0.106\n",
      "P(166<=X<=177): 0.68\n",
      "Height: 173.24\n",
      "Height range: 6.6\n"
     ]
    }
   ],
   "source": [
    "\"\"\" 15.\n",
    "Nghiên cứu chiều cao của những người trưởng thành, người ta nhận thấy rằng chiều cao la\n",
    "đại lượng tuân theo quy luật phân bố chuẩn với trung bình là 175 cm và độ lệch tiêu chuẩn 4\n",
    "cm. Hãy xác định:\n",
    "\"\"\"\n",
    "\n",
    "mu = 175\n",
    "sigma = 4\n",
    "\n",
    "# a. Tỷ lệ người trưởng thành có chiều cao trên 180 cm\n",
    "print(f\"P(X>180): {(1 - norm.cdf(180, mu, sigma)).round(3)}\")\n",
    "\n",
    "# b. Tỷ lệ người trưởng thành có chiều cao từ 166 cm đến 177 cm\n",
    "print(\n",
    "    f\"P(166<=X<=177): {(norm.cdf(177, mu, sigma) - norm.cdf(166, mu, sigma)).round(2)}\"\n",
    ")\n",
    "\n",
    "# c. Giá trị h nếu biết rằng 33% người trưởng thành có chiều cao nhỏ hơn h\n",
    "h = norm.ppf(0.33, mu, sigma)\n",
    "print(f\"Height: {h.round(2)}\")\n",
    "\n",
    "# d. Giới hạn biến động chiều cao s xung quanh giá trị trung bình.\n",
    "# Nếu biết rằng có 90% người trưởng thành có chiều cao nằm trong khoảng biến động này.\n",
    "\n",
    "s = norm.ppf(0.95, mu, sigma) - mu\n",
    "print(f\"Height range: {s.round(1)}\")"
   ]
  },
  {
   "cell_type": "markdown",
   "metadata": {},
   "source": [
    "## Uoc luong"
   ]
  },
  {
   "cell_type": "markdown",
   "metadata": {},
   "source": [
    "### Uoc luong trung binh"
   ]
  },
  {
   "cell_type": "code",
   "execution_count": 424,
   "metadata": {},
   "outputs": [
    {
     "name": "stdout",
     "output_type": "stream",
     "text": [
      "CI: (0.09730000000000001, 0.1027)\n"
     ]
    }
   ],
   "source": [
    "\"\"\" 1. \n",
    "Trên tập mẫu gồm 100 số liệu, người ta tính được mean = 0.1 và s = 0.014. \n",
    "Xác định khoảng tin cậy 95% cho giá trị trung bình thật.\n",
    "\"\"\"\n",
    "\n",
    "n = 100\n",
    "mean = 0.1\n",
    "s = 0.014\n",
    "alpha = 0.05\n",
    "\n",
    "z = norm.ppf(1 - alpha / 2)\n",
    "ci = np.round(z * s / np.sqrt(n), 4)\n",
    "print(f\"CI: ({mean - ci}, {mean + ci})\")"
   ]
  },
  {
   "cell_type": "code",
   "execution_count": 425,
   "metadata": {},
   "outputs": [
    {
     "name": "stdout",
     "output_type": "stream",
     "text": [
      "CI: (375.427, 384.573)\n"
     ]
    }
   ],
   "source": [
    "\"\"\" 2.\n",
    "Chọn ngẫu nhiên 36 công nhân của xí nghiệp thì thấy lương trung bình là 380 ngàn đ/tháng.\n",
    "Giả sử lương công nhân tuân theo phân phối chuẩn với σ = 14 ngàn đồng. Với độ tin cậy 95%,\n",
    "hãy ước lượng mức lương trung bình của công nhân trong toàn xí nghiệp.\n",
    "\"\"\"\n",
    "\n",
    "n = 36\n",
    "mean = 380\n",
    "s = 14\n",
    "alpha = 0.05\n",
    "\n",
    "z = norm.ppf(1 - alpha / 2)\n",
    "ci = np.round(z * s / np.sqrt(n), 3)\n",
    "print(f\"CI: ({mean - ci}, {mean + ci})\")"
   ]
  },
  {
   "cell_type": "code",
   "execution_count": 426,
   "metadata": {},
   "outputs": [
    {
     "name": "stdout",
     "output_type": "stream",
     "text": [
      "CI: (5150.537, 5499.463)\n"
     ]
    }
   ],
   "source": [
    "\"\"\" 3. \n",
    "Đo sức bền chịu lực của một loại ống thí nghiệm, người ta thu được bộ số liệu sau:\n",
    "4500, 6500, 5200, 4800, 4900, 5125, 6200, 5375\n",
    "Từ kinh nghiệm nghề nghiệp, người ta cũng biết rằng sức bền đó có phân phối chuẩn với độ\n",
    "lệch chuẩn σ = 300. Hãy xây dựng khoảng tin cậy 90% cho sức bền trung bình của loại ống\n",
    "trên.\n",
    "\"\"\"\n",
    "\n",
    "data = [4500, 6500, 5200, 4800, 4900, 5125, 6200, 5375]\n",
    "n = len(data)\n",
    "mean = np.mean(data)\n",
    "s = 300\n",
    "alpha = 0.1\n",
    "\n",
    "z = norm.ppf(1 - alpha / 2)\n",
    "ci = np.round(z * s / np.sqrt(n), 3)\n",
    "print(f\"CI: ({mean - ci}, {mean + ci})\")"
   ]
  },
  {
   "cell_type": "code",
   "execution_count": 427,
   "metadata": {},
   "outputs": [
    {
     "name": "stdout",
     "output_type": "stream",
     "text": [
      "CI: (24.055777777777777, 27.49977777777778)\n"
     ]
    }
   ],
   "source": [
    "\"\"\" 4.\n",
    "Sản lượng mỗi ngày của một phân xưởng là biến ngẫu nhiên tuân theo luật chuẩn. Kết quả\n",
    "thống kê của 9 ngày cho ta số liệu:\n",
    "27, 26, 21, 28, 25, 30, 26, 23, 26\n",
    "Hãy xác định các khoảng tin cậy 95% cho sản lượng trung bình.\n",
    "\"\"\"\n",
    "\n",
    "data = [27, 26, 21, 28, 25, 30, 26, 23, 26]\n",
    "n = len(data)\n",
    "mean = np.mean(data)\n",
    "s = np.std(data, ddof=1)\n",
    "alpha = 0.05\n",
    "\n",
    "z = norm.ppf(1 - alpha / 2)\n",
    "ci = np.round(z * s / np.sqrt(n), 3)\n",
    "print(f\"CI: ({mean - ci}, {mean + ci})\")"
   ]
  },
  {
   "cell_type": "code",
   "execution_count": 428,
   "metadata": {},
   "outputs": [
    {
     "name": "stdout",
     "output_type": "stream",
     "text": [
      "Mean: 156.2\n",
      "Var: 37.68\n",
      "CI: (153.88462331387362, 158.51537668612636)\n"
     ]
    }
   ],
   "source": [
    "\"\"\" 5. \n",
    "| X (cm)   | 140-145 | 145-150 | 150-155 | 155-160 | 160-165 | 165-170 |\n",
    "|----------|---------|---------|---------|---------|---------|---------|\n",
    "| so nguoi |    1    |    3    |    7    |    9    |    5    |     2   |\n",
    "\"\"\"\n",
    "\n",
    "data = np.array([142.5, 147.5, 152.5, 157.5, 162.5, 167.5])\n",
    "freq = np.array([1, 3, 7, 9, 5, 2])\n",
    "\n",
    "# a. Tính trung bình và phương sai mẫu\n",
    "mean = np.round(np.sum(data * freq) / np.sum(freq), 2)\n",
    "var = np.round(np.sum(freq * (data - mean) ** 2) / (np.sum(freq) - 1), 2)\n",
    "print(f\"Mean: {mean}\\nVar: {var}\")\n",
    "\n",
    "# b. Ước lượng μ ở độ tin cậy 0.95\n",
    "alpha = 0.05\n",
    "n = np.sum(freq)\n",
    "z = norm.ppf(1 - alpha / 2)\n",
    "ci = z * np.sqrt(var / n)\n",
    "print(f\"CI: ({mean - ci}, {mean + ci})\")"
   ]
  },
  {
   "cell_type": "code",
   "execution_count": 429,
   "metadata": {},
   "outputs": [
    {
     "name": "stdout",
     "output_type": "stream",
     "text": [
      "CI: (4.51, 5.49)\n",
      "CI: 68.27%\n"
     ]
    }
   ],
   "source": [
    "\"\"\" 6.\n",
    "Điểm trung bình môn toán của 100 thí sinh dự thi vào trường A là 5 với độ lệch chuẩn là 2.5\n",
    "\"\"\"\n",
    "\n",
    "n = 100\n",
    "mean = 5\n",
    "s = 2.5\n",
    "alpha = 0.05\n",
    "\n",
    "# a. Ước lượng điểm trung bình môn toán của toàn thể thí sinh với độ tin cậy là 95%.\n",
    "z = norm.ppf(1 - alpha / 2)\n",
    "ci = z * s / np.sqrt(n)\n",
    "print(f\"CI: ({mean - ci:.2f}, {mean + ci:.2f})\")\n",
    "\n",
    "# b. Với sai số ước lượng điểm trung bình ở câu a) là 0.25 điểm, hãy xác định độ tin cậy của ước lượng\n",
    "z_score = 0.25 / (s / np.sqrt(n))\n",
    "p_value = 1 - (2 * (1 - norm.cdf(z_score)))\n",
    "print(f\"CI: {p_value*100:.2f}%\")"
   ]
  },
  {
   "cell_type": "code",
   "execution_count": 430,
   "metadata": {},
   "outputs": [
    {
     "name": "stdout",
     "output_type": "stream",
     "text": [
      "CI: (980.4, 1019.6)\n",
      "CI: 86.64%\n",
      "Min samples: 62.0\n"
     ]
    }
   ],
   "source": [
    "\"\"\" 7.\n",
    "Tuổi thọ của một loại bóng đèn được biết theo quy luật chuẩn với độ lệch chuẩn 100 giờ.\n",
    "\"\"\"\n",
    "\n",
    "s = 100\n",
    "\n",
    "\"\"\" a. Chọn ngẫu nhiên 100 bóng đèn để thử nghiệm, thấy mỗi bóng tuổi thọ trung bình là 1000\n",
    "giờ. Hãy ước lượng tuổi thọ trung bình của bóng đèn xí nghiệp A sản xuất với độ tin cậy là\n",
    "95%.\n",
    "\"\"\"\n",
    "\n",
    "n = 100\n",
    "mean = 1000\n",
    "alpha = 0.05\n",
    "\n",
    "z = norm.ppf(1 - alpha / 2)\n",
    "ci = z * s / np.sqrt(n)\n",
    "print(f\"CI: ({mean - ci:.1f}, {mean + ci:.1f})\")\n",
    "\n",
    "# b. Với dung sai của ước lượng tuổi thọ trung bình là 15 giờ, hãy xác định độ tin cậy.\n",
    "z_score = 15 / (s / np.sqrt(n))\n",
    "p_value = 1 - (2 * (1 - norm.cdf(z_score)))\n",
    "print(f\"CI: {p_value*100:.2f}%\")\n",
    "\n",
    "# c. Để dung sai của ước lượng tuổi thọ trung bình không quá 25 giờ với độ tin cậy là 95% thì cần phải thử nghiệm ít nhất bao nhiêu bóng.\n",
    "z = 1.96\n",
    "sigma = 100\n",
    "threshold = 25\n",
    "print(f\"Min samples: {np.ceil((z * sigma / threshold) ** 2)}\")"
   ]
  },
  {
   "cell_type": "code",
   "execution_count": 449,
   "metadata": {},
   "outputs": [
    {
     "name": "stdout",
     "output_type": "stream",
     "text": [
      "CI: (47.690, 48.310)\n",
      "CI: 98.89%\n",
      "Min samples: 38.0\n"
     ]
    }
   ],
   "source": [
    "\"\"\" 8.\n",
    "Khối lượng các bao bột mì tại một cửa hàng lương thực tuân theo phân phối chuẩn. Kiểm tra\n",
    "20 bao, thấy khối lượng trung bình của mỗi bao bột mì là 48kg, và phương sai mẫu s**2 = 0.5kg**2.\n",
    "\"\"\"\n",
    "\n",
    "n = 20\n",
    "mean = 48\n",
    "s = np.sqrt(0.5)\n",
    "\n",
    "# a. Với độ tin cậy 95% hãy ước lượng khối lượng trung bình của một bao bột mì thuộc cửa hàng.\n",
    "alpha = 0.05\n",
    "z = norm.ppf(1 - alpha / 2)\n",
    "ci = z * s / np.sqrt(n)\n",
    "print(f\"CI: ({mean - ci:.3f}, {mean + ci:.3f})\")\n",
    "\n",
    "# b. Với dung sai của ước lượng ở câu a) là 0.284 kg, hãy xác định độ tin cậy.\n",
    "z = 0.284 * np.sqrt(20) / 0.5\n",
    "p_value = 1 - (2 * (1 - norm.cdf(z)))\n",
    "print(f\"CI: {p_value*100:.2f}%\")\n",
    "\n",
    "# c. Để dung sai của ước lượng ở câu a) không quá 160g với độ tin cậy là 95% thì cần phải kiểm tra ít nhất bao nhiêu bao?\n",
    "z = 1.96\n",
    "sigma = 0.5\n",
    "threshold = 0.16\n",
    "print(f\"Min samples: {np.ceil((z * sigma / threshold) ** 2)}\")"
   ]
  },
  {
   "cell_type": "code",
   "execution_count": 471,
   "metadata": {},
   "outputs": [
    {
     "name": "stdout",
     "output_type": "stream",
     "text": [
      "Mean: 12.21\n",
      "std: 0.103\n",
      "CI: (12.18, 12.23)\n",
      "Min samples: 102\n"
     ]
    }
   ],
   "source": [
    "\"\"\" 9.\n",
    "Đo đường kính của một chi tiết máy do một máy tiện tự động sản xuất, ta ghi nhận được số\n",
    "liệu như sau:\n",
    "| x | 12.00 | 12.05 | 12.10 | 12.15 | 12.20 | 12.25 | 12.30 | 12.35 | 12.40 |\n",
    "|---|-------|-------|-------|-------|-------|-------|-------|-------|-------|\n",
    "| n |   2   |   3   |   7   |   9   |  10   |   8   |   6   |   5   |   3   |\n",
    "\"\"\"\n",
    "\n",
    "data = np.array([12.00, 12.05, 12.10, 12.15, 12.20, 12.25, 12.30, 12.35, 12.40])\n",
    "freq = np.array([2, 3, 7, 9, 10, 8, 6, 5, 3])\n",
    "n = np.sum(freq)\n",
    "\n",
    "# a. Tính trung bình mẫu x và độ lệch chuẩn s của mẫu.\n",
    "x = np.sum(data * freq) / np.sum(freq)\n",
    "s = np.sqrt(sum((data - x) ** 2 * freq) / (sum(freq) - 1))\n",
    "print(f\"Mean: {x:.2f}\\nstd: {s:.3f}\")\n",
    "\n",
    "# b. Ước lượng đường kính trung bình μ ở độ tin cậy 0.95.\n",
    "alpha = 0.05\n",
    "z = norm.ppf(1 - alpha / 2)\n",
    "ci = z * s / np.sqrt(n)\n",
    "print(f\"CI: ({x - ci:.2f}, {x + ci:.2f})\")\n",
    "\n",
    "# c. Nếu muốn sai số ước lượng không quá ε = 0.02 mm ở độ tin cậy 0.95 thì phải quan sát ít nhất mấy trường hợp.\n",
    "epsilon = 0.02\n",
    "z = 1.96\n",
    "print(f\"Min samples: {np.ceil((z * s / epsilon) ** 2):.0f}\")"
   ]
  },
  {
   "cell_type": "code",
   "execution_count": 479,
   "metadata": {},
   "outputs": [
    {
     "name": "stdout",
     "output_type": "stream",
     "text": [
      "Mean: 137.83\n",
      "Var: 19.42\n",
      "CI: (135.34, 140.33)\n",
      "Min samples: 75\n"
     ]
    }
   ],
   "source": [
    "\"\"\" 10.\n",
    "Người ta đo ion Na+ trên một số người và ghi nhận lại được kết quả như sau:\n",
    "129, 132, 140, 141, 138, 143, 133, 137, 140, 143, 138, 140\n",
    "\"\"\"\n",
    "\n",
    "data = np.array([129, 132, 140, 141, 138, 143, 133, 137, 140, 143, 138, 140])\n",
    "n = len(data)\n",
    "\n",
    "# a. Tính trung bình mẫu và phương sai mẫu\n",
    "mean = np.mean(data)\n",
    "var = np.var(data, ddof=1)\n",
    "print(f\"Mean: {mean:.2f}\\nVar: {var:.2f}\")\n",
    "\n",
    "# b. Ước lượng μ ở độ tin cậy 0.95\n",
    "alpha = 0.05\n",
    "z = norm.ppf(1 - alpha / 2)\n",
    "ci = z * np.sqrt(var / n)\n",
    "print(f\"CI: ({mean - ci:.2f}, {mean + ci:.2f})\")\n",
    "\n",
    "# c. Nếu muốn sai số ước lượng trung bình không quá ε = 1 với độ tin cậy 0.95 thì phải quan sát mẫu gồm ít nhất mấy người?\n",
    "epsilon = 1\n",
    "z = 1.96\n",
    "print(f\"Min samples: {np.ceil((z * np.sqrt(var) / epsilon) ** 2):.0f}\")"
   ]
  },
  {
   "cell_type": "code",
   "execution_count": 495,
   "metadata": {},
   "outputs": [
    {
     "name": "stdout",
     "output_type": "stream",
     "text": [
      "Mean: 1391.41\n",
      "std: 1404.33\n",
      "CI: (1148.12, 1634.69)\n",
      "Min samples: 14541\n"
     ]
    }
   ],
   "source": [
    "\"\"\" 11.\n",
    "Quan sát tuổi thọ x (giờ) của một số bóng đèn do xí nghiệp A sản xuất, ta ghi nhận:\n",
    "| x | 1000 | 1100 | 1200 | 1300 | 1400 | 1500 | 1600 | 1700 | 1800 | \n",
    "|---|------|------|------|------|------|------|------|------|------|\n",
    "| n |  10  |  14  |  16  |  17  |  18  |  16  |  16  |  12  |   9  |\n",
    "\"\"\"\n",
    "\n",
    "data = np.array([1000, 1100, 1200, 1300, 1400, 1500, 1600, 1700, 1800])\n",
    "freq = np.array([10, 14, 16, 17, 18, 16, 16, 12, 9])\n",
    "n = np.sum(freq)\n",
    "\n",
    "# a. Tính trung bình mẫu và độ lệch chuẩn mẫu s\n",
    "mean = np.sum(data * freq) / np.sum(freq)\n",
    "s = np.sqrt(sum((data - x) ** 2 * freq) / (sum(freq) - 1))\n",
    "print(f\"Mean: {mean:.2f}\\nstd: {s:.2f}\")\n",
    "\n",
    "# b. Ước lượng tuổi thọ trung bình của bóng đèn ở độ tin cậy 0.95\n",
    "alpha = 0.05\n",
    "z = norm.ppf(1 - alpha / 2)\n",
    "ci = z * s / np.sqrt(n)\n",
    "print(f\"CI: ({mean - ci:.2f}, {mean + ci:.2f})\")\n",
    "\n",
    "# c. Nếu muốn sai số ước lượng không quá ε = 30 giờ với độ tin cậy 0.99 thì phải quan sát mẫu gồm ít nhất mấy bóng đèn?\n",
    "epsilon = 30\n",
    "z = 2.576\n",
    "print(f\"Min samples: {np.ceil((z * s / epsilon) ** 2):.0f}\")"
   ]
  }
 ],
 "metadata": {
  "kernelspec": {
   "display_name": "Python 3",
   "language": "python",
   "name": "python3"
  },
  "language_info": {
   "codemirror_mode": {
    "name": "ipython",
    "version": 3
   },
   "file_extension": ".py",
   "mimetype": "text/x-python",
   "name": "python",
   "nbconvert_exporter": "python",
   "pygments_lexer": "ipython3",
   "version": "3.12.2"
  }
 },
 "nbformat": 4,
 "nbformat_minor": 2
}
