{
 "cells": [
  {
   "cell_type": "code",
   "execution_count": 30,
   "metadata": {},
   "outputs": [],
   "source": [
    "import numpy as np\n",
    "\n",
    "from scipy.stats import binom, hypergeom, poisson, geom"
   ]
  },
  {
   "cell_type": "code",
   "execution_count": 31,
   "metadata": {},
   "outputs": [
    {
     "name": "stdout",
     "output_type": "stream",
     "text": [
      "Xac suat 2 san pham bi loi: 0.282\n"
     ]
    }
   ],
   "source": [
    "# 1\n",
    "M = 8000\n",
    "n = 2000\n",
    "N = 10\n",
    "\n",
    "print(f\"Xac suat 2 san pham bi loi: {np.round(hypergeom.pmf(2, M, n, N),3)}\")"
   ]
  },
  {
   "cell_type": "code",
   "execution_count": 32,
   "metadata": {},
   "outputs": [
    {
     "name": "stdout",
     "output_type": "stream",
     "text": [
      "Xac suat 3 truong hop phan ung: 0.18\n",
      "Xac suat nhieu nhat 3 truong hop phan ung: 0.86\n",
      "Xac suat nhieu hon 3 truong hop phan ung: 0.14\n"
     ]
    }
   ],
   "source": [
    "# 2\n",
    "lamd = 1 / 1000\n",
    "n = 2000\n",
    "\n",
    "print(f\"Xac suat 3 truong hop phan ung: {np.round(poisson.pmf(3,lamd*n),2)}\")\n",
    "print(f\"Xac suat nhieu nhat 3 truong hop phan ung: {np.round(poisson.cdf(3,lamd*n),2)}\")\n",
    "print(\n",
    "    f\"Xac suat nhieu hon 3 truong hop phan ung: {1- np.round(poisson.cdf(3,lamd*n),2)}\"\n",
    ")"
   ]
  },
  {
   "cell_type": "code",
   "execution_count": 35,
   "metadata": {},
   "outputs": [
    {
     "name": "stdout",
     "output_type": "stream",
     "text": [
      "Xac suat nhieu nhat 1 thiet bi bi loi: 0.848\n",
      "So lan can quan sat de xac suat it nhat 1 san pham bi loi >= 0.9: 32.0\n"
     ]
    }
   ],
   "source": [
    "# 3\n",
    "fail_rate = 0.07\n",
    "\n",
    "# a\n",
    "n = 10\n",
    "print(\n",
    "    f\"Xac suat nhieu nhat 1 thiet bi bi loi: {np.round(binom.cdf(1, n, fail_rate),3)}\"\n",
    ")\n",
    "\n",
    "print(\n",
    "    f\"So lan can quan sat de xac suat it nhat 1 san pham bi loi >= 0.9: {np.ceil(geom.ppf(0.9,fail_rate))}\"\n",
    ")"
   ]
  }
 ],
 "metadata": {
  "kernelspec": {
   "display_name": "Python 3",
   "language": "python",
   "name": "python3"
  },
  "language_info": {
   "codemirror_mode": {
    "name": "ipython",
    "version": 3
   },
   "file_extension": ".py",
   "mimetype": "text/x-python",
   "name": "python",
   "nbconvert_exporter": "python",
   "pygments_lexer": "ipython3",
   "version": "3.10.13"
  }
 },
 "nbformat": 4,
 "nbformat_minor": 2
}
